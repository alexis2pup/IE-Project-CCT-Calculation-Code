{
 "cells": [
  {
   "cell_type": "markdown",
   "metadata": {},
   "source": [
    "# Finding 1931 CEI Chromocaticity Coordinates and its CCT Based on Data"
   ]
  },
  {
   "cell_type": "markdown",
   "metadata": {},
   "source": [
    "Imports Needed"
   ]
  },
  {
   "cell_type": "code",
   "execution_count": 817,
   "metadata": {},
   "outputs": [],
   "source": [
    "import pandas as pd\n",
    "import numpy as np"
   ]
  },
  {
   "cell_type": "markdown",
   "metadata": {},
   "source": [
    "Paths for Data Files"
   ]
  },
  {
   "cell_type": "code",
   "execution_count": 818,
   "metadata": {},
   "outputs": [],
   "source": [
    "CEI_colorimetric_path = r'.xlsx' #user enters excel spreadsheet file of CEI standard 1931 colorimetric table"
   ]
  },
  {
   "cell_type": "code",
   "execution_count": 819,
   "metadata": {},
   "outputs": [],
   "source": [
    "csv_data_path = r\".csv\"  #user enters csv file from computer of data here"
   ]
  },
  {
   "cell_type": "markdown",
   "metadata": {},
   "source": [
    "Parsing in 1931 CEI Standard Colorimetric Observer to Obtain Color Matching Functions"
   ]
  },
  {
   "cell_type": "code",
   "execution_count": 820,
   "metadata": {},
   "outputs": [],
   "source": [
    "CEI_colorimetric = pd.read_excel(CEI_colorimetric_path,sheet_name = 'CEI_data')"
   ]
  },
  {
   "cell_type": "code",
   "execution_count": 821,
   "metadata": {},
   "outputs": [],
   "source": [
    "x_color_matching = CEI_colorimetric['x']\n",
    "y_color_matching = CEI_colorimetric['y']\n",
    "z_color_matching = CEI_colorimetric['z']"
   ]
  },
  {
   "cell_type": "markdown",
   "metadata": {},
   "source": [
    "Incorporating CSV File from Obtained Data"
   ]
  },
  {
   "cell_type": "code",
   "execution_count": 822,
   "metadata": {},
   "outputs": [],
   "source": [
    "csv_data = pd.read_csv(csv_data_path, skiprows=88)"
   ]
  },
  {
   "cell_type": "code",
   "execution_count": 823,
   "metadata": {},
   "outputs": [],
   "source": [
    "#Selecting Wavelength and intensity only from csv file \n",
    "wavelength = csv_data['Wavelength'][247]\n",
    "intensity = csv_data['Raw data #1'][247]"
   ]
  },
  {
   "cell_type": "markdown",
   "metadata": {},
   "source": [
    "Selecting intensities from 380 to 780 nm stepping at 5 nm placing them in an array"
   ]
  },
  {
   "cell_type": "code",
   "execution_count": 824,
   "metadata": {},
   "outputs": [],
   "source": [
    "i = 309\n",
    "intensity_region = []\n",
    "while i < 507:\n",
    "    select_intensity = csv_data['Raw data #1'][i]\n",
    "    intensity_region.append(select_intensity)\n",
    "    i = i + 10\n",
    "    if (i == 339 or i == 370 or i == 401):\n",
    "        select_intensity = csv_data['Raw data #1'][i]\n",
    "        intensity_region.append(select_intensity)\n",
    "        i = i + 11\n",
    "    if (i == 422 or i == 443 or i == 464):\n",
    "        select_intensity = csv_data['Raw data #1'][i]\n",
    "        intensity_region.append(select_intensity)\n",
    "        i = i + 11\n",
    "    if (i == 475 or i == 496 or i == 507):\n",
    "        select_intensity = csv_data['Raw data #1'][i]\n",
    "        intensity_region.append(select_intensity)\n",
    "        i = i + 11"
   ]
  },
  {
   "cell_type": "code",
   "execution_count": 825,
   "metadata": {},
   "outputs": [],
   "source": [
    "i = 507\n",
    "while i < 820:\n",
    "    select_intensity = csv_data['Raw data #1'][i]\n",
    "    intensity_region.append(select_intensity)\n",
    "    i = i + 11\n",
    "    if (i == 518 or i == 561):\n",
    "        select_intensity = csv_data['Raw data #1'][i]\n",
    "        intensity_region.append(select_intensity)\n",
    "        i = i + 10\n",
    "    if (i == 749):\n",
    "        select_intensity = csv_data['Raw data #1'][i]\n",
    "        intensity_region.append(select_intensity)\n",
    "        i = i + 11\n",
    "    if (i == 681 or i == 726 or i == 760):\n",
    "        select_intensity = csv_data['Raw data #1'][i]\n",
    "        intensity_region.append(select_intensity)\n",
    "        i = i + 12\n",
    "    if (i == 783 or i == 806):\n",
    "        select_intensity = csv_data['Raw data #1'][i]\n",
    "        intensity_region.append(select_intensity)\n",
    "        i = i + 12"
   ]
  },
  {
   "cell_type": "code",
   "execution_count": 826,
   "metadata": {},
   "outputs": [],
   "source": [
    "i = 829\n",
    "while i < 1090:\n",
    "    select_intensity = csv_data['Raw data #1'][i]\n",
    "    intensity_region.append(select_intensity)\n",
    "    i = i + 12\n",
    "    if (i == 853 or i == 865 or i == 900):\n",
    "        select_intensity = csv_data['Raw data #1'][i]\n",
    "        intensity_region.append(select_intensity)\n",
    "        i = i + 11\n",
    "    if (i == 983 or i == 1032):\n",
    "        select_intensity = csv_data['Raw data #1'][i]\n",
    "        intensity_region.append(select_intensity)\n",
    "        i = i + 13\n",
    "    if (i == 1069):\n",
    "        select_intensity = csv_data['Raw data #1'][i]\n",
    "        intensity_region.append(select_intensity)\n",
    "        i = i + 13"
   ]
  },
  {
   "cell_type": "code",
   "execution_count": 827,
   "metadata": {},
   "outputs": [],
   "source": [
    "i = 1094\n",
    "while i < 1225:\n",
    "    select_intensity = csv_data['Raw data #1'][i]\n",
    "    intensity_region.append(select_intensity)\n",
    "    i = i + 13\n",
    "    if (i == 1094 or i == 1107 or i == 1145):\n",
    "        select_intensity = csv_data['Raw data #1'][i]\n",
    "        intensity_region.append(select_intensity)\n",
    "        i = i + 12"
   ]
  },
  {
   "cell_type": "markdown",
   "metadata": {},
   "source": [
    "Multiplying selected region of intensity by color matching functions"
   ]
  },
  {
   "cell_type": "code",
   "execution_count": 828,
   "metadata": {},
   "outputs": [],
   "source": [
    "multiplied_x = x_color_matching*intensity_region\n",
    "multiplied_y = y_color_matching*intensity_region\n",
    "multiplied_z = z_color_matching*intensity_region"
   ]
  },
  {
   "cell_type": "markdown",
   "metadata": {},
   "source": [
    "Summing up above multiplications to get three tristimulus values"
   ]
  },
  {
   "cell_type": "code",
   "execution_count": 829,
   "metadata": {},
   "outputs": [
    {
     "name": "stdout",
     "output_type": "stream",
     "text": [
      "X tristimulus =  48304.506427928216\n",
      "Y tristimulus =  45308.02633115729\n",
      "Z tristimulus =  159265.625782545\n"
     ]
    }
   ],
   "source": [
    "X_tristimulus = sum(multiplied_x)\n",
    "Y_tristimulus = sum(multiplied_y)\n",
    "Z_tristimulus = sum(multiplied_z)\n",
    "\n",
    "print('X tristimulus = ', X_tristimulus)\n",
    "print('Y tristimulus = ', Y_tristimulus)\n",
    "print('Z tristimulus = ', Z_tristimulus)"
   ]
  },
  {
   "cell_type": "markdown",
   "metadata": {},
   "source": [
    "Normalizing tristimulus values to obtain chromaticity coordinates"
   ]
  },
  {
   "cell_type": "code",
   "execution_count": 830,
   "metadata": {},
   "outputs": [
    {
     "name": "stdout",
     "output_type": "stream",
     "text": [
      "x chromaticity =  0.1910188950540622\n",
      "y chromaticity =  0.17916939364179363\n"
     ]
    }
   ],
   "source": [
    "tristimulus_sum = X_tristimulus + Y_tristimulus + Z_tristimulus\n",
    "\n",
    "x_chromaticity = X_tristimulus/tristimulus_sum\n",
    "y_chromaticity = Y_tristimulus/tristimulus_sum\n",
    "\n",
    "print('x chromaticity = ', x_chromaticity)\n",
    "print('y chromaticity = ', y_chromaticity)"
   ]
  },
  {
   "cell_type": "markdown",
   "metadata": {},
   "source": [
    "Using McCamy's Approximation to Get CCT from Chromaticity Coordinates"
   ]
  },
  {
   "cell_type": "code",
   "execution_count": 831,
   "metadata": {},
   "outputs": [
    {
     "name": "stdout",
     "output_type": "stream",
     "text": [
      "Color Correlated Temperature is  209453.5765683184\n"
     ]
    }
   ],
   "source": [
    "n = (x_chromaticity-0.325)/(y_chromaticity-0.154)\n",
    "CCT = -(449*(n**3)) + (3525*(n**2)) - (6823.3*n) + 5520.33\n",
    "print('Color Correlated Temperature is ', CCT)"
   ]
  },
  {
   "cell_type": "code",
   "execution_count": null,
   "metadata": {},
   "outputs": [],
   "source": []
  }
 ],
 "metadata": {
  "kernelspec": {
   "display_name": "Python 3",
   "language": "python",
   "name": "python3"
  },
  "language_info": {
   "codemirror_mode": {
    "name": "ipython",
    "version": 3
   },
   "file_extension": ".py",
   "mimetype": "text/x-python",
   "name": "python",
   "nbconvert_exporter": "python",
   "pygments_lexer": "ipython3",
   "version": "3.7.3"
  }
 },
 "nbformat": 4,
 "nbformat_minor": 2
}
